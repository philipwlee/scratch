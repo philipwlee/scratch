{
 "cells": [
  {
   "cell_type": "code",
   "execution_count": 16,
   "id": "ff217660-d5ff-4951-9f89-d6ebb8d05db3",
   "metadata": {},
   "outputs": [
    {
     "name": "stdin",
     "output_type": "stream",
     "text": [
      " 10\n",
      " 30 1000000\n"
     ]
    },
    {
     "name": "stdout",
     "output_type": "stream",
     "text": [
      "g(1) = 1; tot = 0\n",
      "g(2) = 2; tot = 1\n",
      "g(3) = 5; tot = 3\n",
      "g(4) = 15; tot = 8\n",
      "g(5) = 25; tot = 14\n",
      "g(6) = 3; tot = 21\n",
      "g(7) = 13; tot = 24\n",
      "g(8) = 23; tot = 28\n",
      "g(9) = 6; tot = 33\n",
      "g(10) = 16; tot = 39\n",
      "g(11) = 26; tot = 46\n",
      "g(12) = 44; tot = 54\n",
      "g(13) = 144; tot = 62\n",
      "g(14) = 256; tot = 71\n",
      "g(15) = 36; tot = 84\n",
      "g(16) = 136; tot = 93\n",
      "g(17) = 236; tot = 103\n",
      "g(18) = 67; tot = 114\n",
      "g(19) = 167; tot = 127\n",
      "g(20) = 267; tot = 141\n",
      "g(21) = 349; tot = 156\n",
      "g(22) = 1349; tot = 172\n",
      "g(23) = 2349; tot = 189\n",
      "g(24) = 49; tot = 207\n",
      "g(25) = 149; tot = 220\n",
      "g(26) = 249; tot = 234\n",
      "g(27) = 9; tot = 249\n",
      "g(28) = 19; tot = 258\n",
      "g(29) = 29; tot = 268\n",
      "g(30) = 129; tot = 279\n",
      "291\n"
     ]
    },
    {
     "ename": "KeyboardInterrupt",
     "evalue": "Interrupted by user",
     "output_type": "error",
     "traceback": [
      "\u001b[0;31m---------------------------------------------------------------------------\u001b[0m",
      "\u001b[0;31mKeyboardInterrupt\u001b[0m                         Traceback (most recent call last)",
      "\u001b[0;32m<ipython-input-16-951d61762f1b>\u001b[0m in \u001b[0;36m<module>\u001b[0;34m\u001b[0m\n\u001b[1;32m     47\u001b[0m \u001b[0mlines\u001b[0m \u001b[0;34m=\u001b[0m \u001b[0mint\u001b[0m\u001b[0;34m(\u001b[0m\u001b[0minput\u001b[0m\u001b[0;34m(\u001b[0m\u001b[0;34m)\u001b[0m\u001b[0;34m)\u001b[0m\u001b[0;34m\u001b[0m\u001b[0;34m\u001b[0m\u001b[0m\n\u001b[1;32m     48\u001b[0m \u001b[0;32mfor\u001b[0m \u001b[0mloop\u001b[0m \u001b[0;32min\u001b[0m \u001b[0mrange\u001b[0m\u001b[0;34m(\u001b[0m\u001b[0mlines\u001b[0m\u001b[0;34m)\u001b[0m\u001b[0;34m:\u001b[0m\u001b[0;34m\u001b[0m\u001b[0;34m\u001b[0m\u001b[0m\n\u001b[0;32m---> 49\u001b[0;31m     \u001b[0ml\u001b[0m \u001b[0;34m=\u001b[0m \u001b[0minput\u001b[0m\u001b[0;34m(\u001b[0m\u001b[0;34m)\u001b[0m\u001b[0;34m.\u001b[0m\u001b[0msplit\u001b[0m\u001b[0;34m(\u001b[0m\u001b[0;34m' '\u001b[0m\u001b[0;34m)\u001b[0m\u001b[0;34m\u001b[0m\u001b[0;34m\u001b[0m\u001b[0m\n\u001b[0m\u001b[1;32m     50\u001b[0m     \u001b[0mn_in\u001b[0m \u001b[0;34m=\u001b[0m \u001b[0mint\u001b[0m\u001b[0;34m(\u001b[0m\u001b[0ml\u001b[0m\u001b[0;34m[\u001b[0m\u001b[0;36m0\u001b[0m\u001b[0;34m]\u001b[0m\u001b[0;34m)\u001b[0m\u001b[0;34m\u001b[0m\u001b[0;34m\u001b[0m\u001b[0m\n\u001b[1;32m     51\u001b[0m     \u001b[0mm_in\u001b[0m \u001b[0;34m=\u001b[0m \u001b[0mint\u001b[0m\u001b[0;34m(\u001b[0m\u001b[0ml\u001b[0m\u001b[0;34m[\u001b[0m\u001b[0;36m1\u001b[0m\u001b[0;34m]\u001b[0m\u001b[0;34m)\u001b[0m\u001b[0;34m\u001b[0m\u001b[0;34m\u001b[0m\u001b[0m\n",
      "\u001b[0;32m~/miniconda3/lib/python3.9/site-packages/ipykernel/kernelbase.py\u001b[0m in \u001b[0;36mraw_input\u001b[0;34m(self, prompt)\u001b[0m\n\u001b[1;32m    858\u001b[0m                 \u001b[0;34m\"raw_input was called, but this frontend does not support input requests.\"\u001b[0m\u001b[0;34m\u001b[0m\u001b[0;34m\u001b[0m\u001b[0m\n\u001b[1;32m    859\u001b[0m             )\n\u001b[0;32m--> 860\u001b[0;31m         return self._input_request(str(prompt),\n\u001b[0m\u001b[1;32m    861\u001b[0m             \u001b[0mself\u001b[0m\u001b[0;34m.\u001b[0m\u001b[0m_parent_ident\u001b[0m\u001b[0;34m,\u001b[0m\u001b[0;34m\u001b[0m\u001b[0;34m\u001b[0m\u001b[0m\n\u001b[1;32m    862\u001b[0m             \u001b[0mself\u001b[0m\u001b[0;34m.\u001b[0m\u001b[0m_parent_header\u001b[0m\u001b[0;34m,\u001b[0m\u001b[0;34m\u001b[0m\u001b[0;34m\u001b[0m\u001b[0m\n",
      "\u001b[0;32m~/miniconda3/lib/python3.9/site-packages/ipykernel/kernelbase.py\u001b[0m in \u001b[0;36m_input_request\u001b[0;34m(self, prompt, ident, parent, password)\u001b[0m\n\u001b[1;32m    902\u001b[0m             \u001b[0;32mexcept\u001b[0m \u001b[0mKeyboardInterrupt\u001b[0m\u001b[0;34m:\u001b[0m\u001b[0;34m\u001b[0m\u001b[0;34m\u001b[0m\u001b[0m\n\u001b[1;32m    903\u001b[0m                 \u001b[0;31m# re-raise KeyboardInterrupt, to truncate traceback\u001b[0m\u001b[0;34m\u001b[0m\u001b[0;34m\u001b[0m\u001b[0;34m\u001b[0m\u001b[0m\n\u001b[0;32m--> 904\u001b[0;31m                 \u001b[0;32mraise\u001b[0m \u001b[0mKeyboardInterrupt\u001b[0m\u001b[0;34m(\u001b[0m\u001b[0;34m\"Interrupted by user\"\u001b[0m\u001b[0;34m)\u001b[0m \u001b[0;32mfrom\u001b[0m \u001b[0;32mNone\u001b[0m\u001b[0;34m\u001b[0m\u001b[0;34m\u001b[0m\u001b[0m\n\u001b[0m\u001b[1;32m    905\u001b[0m             \u001b[0;32mexcept\u001b[0m \u001b[0mException\u001b[0m \u001b[0;32mas\u001b[0m \u001b[0me\u001b[0m\u001b[0;34m:\u001b[0m\u001b[0;34m\u001b[0m\u001b[0;34m\u001b[0m\u001b[0m\n\u001b[1;32m    906\u001b[0m                 \u001b[0mself\u001b[0m\u001b[0;34m.\u001b[0m\u001b[0mlog\u001b[0m\u001b[0;34m.\u001b[0m\u001b[0mwarning\u001b[0m\u001b[0;34m(\u001b[0m\u001b[0;34m\"Invalid Message:\"\u001b[0m\u001b[0;34m,\u001b[0m \u001b[0mexc_info\u001b[0m\u001b[0;34m=\u001b[0m\u001b[0;32mTrue\u001b[0m\u001b[0;34m)\u001b[0m\u001b[0;34m\u001b[0m\u001b[0;34m\u001b[0m\u001b[0m\n",
      "\u001b[0;31mKeyboardInterrupt\u001b[0m: Interrupted by user"
     ]
    }
   ],
   "source": [
    "# Enter your code here. Read input from STDIN. Print output to STDOUT\n",
    "\n",
    "# TOOLS HERE\n",
    "fact = {\n",
    "    '0': 1, '1': 1, '2': 2, '3': 6, '4': 24, '5': 120,\n",
    "    '6': 720, '7': 5040, '8': 40320, '9': 362880\n",
    "}\n",
    "\n",
    "remember = {1: 1} # Store g(i) here when possible\n",
    "counter  = 1\n",
    "\n",
    "def f(n: str) -> int:\n",
    "    \"\"\"takes a number string and sums the factorial of digits\n",
    "    '123' -> 1! + 2! + 3! = 1 + 2 + 6 = 9\n",
    "    \"\"\"\n",
    "    ret = 0\n",
    "    for i in list(n):\n",
    "        ret += fact[i]\n",
    "    return ret\n",
    "\n",
    "def s(n: str) -> int:\n",
    "    \"\"\"takes a number string and sums the digits\n",
    "    '123' -> 1 + 2 + 3 = 6\n",
    "    \"\"\"\n",
    "    ret = 0\n",
    "    for i in list(n):\n",
    "        ret += int(i)\n",
    "    return ret\n",
    "\n",
    "def sf(n: int) -> int:\n",
    "    return s(str(f(str(n))))\n",
    "\n",
    "def find_g(i):\n",
    "    if i in remember:\n",
    "        return remember[i]\n",
    "    else:\n",
    "        counter = max(remember.values())\n",
    "        while True:\n",
    "            counter += 1\n",
    "            res = sf(counter)\n",
    "            # g(i) here\n",
    "            if res not in remember:\n",
    "                remember.update({res: counter})\n",
    "                if res == i:\n",
    "                    return counter\n",
    "\n",
    "lines = int(input())\n",
    "for loop in range(lines):\n",
    "    l = input().split(' ')\n",
    "    n_in = int(l[0])\n",
    "    m_in = int(l[1])\n",
    "    \n",
    "    sig_sg = 0\n",
    "    for i in range(1, n_in + 1):\n",
    "        \"\"\"Say n_in = 10; n = 1, 2, ... 9, 10\"\"\"\n",
    "        n = find_g(i)\n",
    "        print(f\"g({i}) = {n}; tot = {sig_sg}\")\n",
    "        sig_sg += s(str(n))\n",
    "    print(sig_sg % m_in)"
   ]
  },
  {
   "cell_type": "code",
   "execution_count": 17,
   "id": "8f574dfe-208e-4d77-9612-26d5d7614922",
   "metadata": {},
   "outputs": [],
   "source": [
    "d = {}\n",
    "for i in range(1, 10 ** 3):\n",
    "    sf = s(str(f(str(i))))\n",
    "#     print(i, sf)\n",
    "    if sf not in d:\n",
    "        d.update({sf: i})"
   ]
  },
  {
   "cell_type": "code",
   "execution_count": 30,
   "id": "7d5628d0-9e55-460b-8f8c-ef224f992c64",
   "metadata": {},
   "outputs": [
    {
     "data": {
      "text/plain": [
       "<AxesSubplot:xlabel='i'>"
      ]
     },
     "execution_count": 30,
     "metadata": {},
     "output_type": "execute_result"
    },
    {
     "data": {
      "image/png": "[encoded data removed]",
      "text/plain": [
       "<Figure size 432x288 with 1 Axes>"
      ]
     },
     "metadata": {
      "needs_background": "light"
     },
     "output_type": "display_data"
    }
   ],
   "source": [
    "import pandas as pd\n",
    "df = pd.DataFrame({'i': d.keys(), 'n': d.values()}).set_index('i')\n",
    "df.sort_index().plot()"
   ]
  },
  {
   "cell_type": "code",
   "execution_count": 20,
   "id": "899bbd86-b7a8-4bad-b3f0-c503b12fca68",
   "metadata": {},
   "outputs": [
    {
     "data": {
      "text/plain": [
       "100"
      ]
     },
     "execution_count": 20,
     "metadata": {},
     "output_type": "execute_result"
    }
   ],
   "source": [
    "l = []\n",
    "a = 1\n",
    "\n",
    "def ska(i, j):\n",
    "    l.append(i + j + a)\n",
    "\n",
    "for i in range(10):\n",
    "    for j in range(10):\n",
    "        ska(i, j)\n",
    "        \n",
    "len(l)"
   ]
  },
  {
   "cell_type": "code",
   "execution_count": 6,
   "id": "6ba1006d-05cc-4be8-9767-2ca7fd128ec2",
   "metadata": {},
   "outputs": [
    {
     "data": {
      "text/plain": [
       "{1: 1,\n",
       " 2: 2,\n",
       " 6: 3,\n",
       " 3: 5,\n",
       " 9: 6,\n",
       " 27: 9,\n",
       " 7: 13,\n",
       " 4: 15,\n",
       " 10: 16,\n",
       " 28: 19,\n",
       " 8: 23,\n",
       " 5: 25,\n",
       " 11: 26,\n",
       " 29: 29,\n",
       " 15: 36,\n",
       " 33: 39,\n",
       " 12: 44,\n",
       " 24: 49,\n",
       " 18: 67,\n",
       " 30: 129,\n",
       " 16: 136,\n",
       " 34: 139,\n",
       " 13: 144,\n",
       " 25: 149,\n",
       " 19: 167,\n",
       " 31: 229,\n",
       " 17: 236,\n",
       " 35: 239,\n",
       " 26: 249,\n",
       " 14: 256,\n",
       " 20: 267,\n",
       " 21: 349,\n",
       " 32: 1229,\n",
       " 36: 1239,\n",
       " 22: 1349,\n",
       " 23: 2349,\n",
       " 39: 4479,\n",
       " 37: 13339,\n",
       " 40: 14479,\n",
       " 38: 23599,\n",
       " 42: 344479,\n",
       " 43: 1344479,\n",
       " 41: 2355679,\n",
       " 44: 2378889,\n",
       " 45: 12378889,\n",
       " 46: 133378889}"
      ]
     },
     "execution_count": 6,
     "metadata": {},
     "output_type": "execute_result"
    }
   ],
   "source": [
    "remember"
   ]
  },
  {
   "cell_type": "code",
   "execution_count": 14,
   "id": "f8346e23-c365-4772-b486-7de3bd933aa8",
   "metadata": {},
   "outputs": [
    {
     "data": {
      "text/plain": [
       "[<matplotlib.lines.Line2D at 0x7fca4f20e7c0>]"
      ]
     },
     "execution_count": 14,
     "metadata": {},
     "output_type": "execute_result"
    },
    {
     "data": {
      "image/png": "[encoded data removed]",
      "text/plain": [
       "<Figure size 432x288 with 1 Axes>"
      ]
     },
     "metadata": {
      "needs_background": "light"
     },
     "output_type": "display_data"
    }
   ],
   "source": [
    "import matplotlib.pyplot as plt\n",
    "plt.plot(remember.keys(), remember.values())"
   ]
  },
  {
   "cell_type": "code",
   "execution_count": 13,
   "id": "28afac97-ec3b-4b58-8593-25a6d38d115a",
   "metadata": {},
   "outputs": [
    {
     "data": {
      "text/plain": [
       "{1: 1,\n",
       " 2: 2,\n",
       " 6: 3,\n",
       " 3: 5,\n",
       " 9: 6,\n",
       " 27: 9,\n",
       " 7: 13,\n",
       " 4: 15,\n",
       " 10: 16,\n",
       " 28: 19,\n",
       " 8: 23,\n",
       " 5: 25,\n",
       " 11: 26,\n",
       " 29: 29,\n",
       " 15: 36,\n",
       " 33: 39,\n",
       " 12: 44,\n",
       " 24: 49,\n",
       " 18: 67,\n",
       " 30: 129,\n",
       " 16: 136,\n",
       " 34: 139,\n",
       " 13: 144,\n",
       " 25: 149,\n",
       " 19: 167,\n",
       " 31: 229,\n",
       " 17: 236,\n",
       " 35: 239,\n",
       " 26: 249,\n",
       " 14: 256,\n",
       " 20: 267,\n",
       " 21: 349,\n",
       " 32: 1229,\n",
       " 36: 1239,\n",
       " 22: 1349,\n",
       " 23: 2349}"
      ]
     },
     "execution_count": 13,
     "metadata": {},
     "output_type": "execute_result"
    }
   ],
   "source": [
    "remember"
   ]
  },
  {
   "cell_type": "code",
   "execution_count": null,
   "id": "9540f14e-a1dd-43a9-90d4-2298538c8cd9",
   "metadata": {},
   "outputs": [],
   "source": []
  }
 ],
 "metadata": {
  "kernelspec": {
   "display_name": "Python 3",
   "language": "python",
   "name": "python3"
  },
  "language_info": {
   "codemirror_mode": {
    "name": "ipython",
    "version": 3
   },
   "file_extension": ".py",
   "mimetype": "text/x-python",
   "name": "python",
   "nbconvert_exporter": "python",
   "pygments_lexer": "ipython3",
   "version": "3.9.1"
  }
 },
 "nbformat": 4,
 "nbformat_minor": 5
}
