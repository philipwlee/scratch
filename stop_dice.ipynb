{
 "cells": [
  {
   "cell_type": "code",
   "execution_count": 1,
   "id": "069a97b7-d8b7-40dc-ab9a-b3de905b24b5",
   "metadata": {},
   "outputs": [
    {
     "name": "stdout",
     "output_type": "stream",
     "text": [
      "Roll 4\t has an expectation of 4.944\n",
      "Roll 5\t has an expectation of 5.130\n",
      "Roll 6\t has an expectation of 5.275\n",
      "Roll 7\t has an expectation of 5.396\n",
      "Roll 8\t has an expectation of 5.496\n",
      "Roll 9\t has an expectation of 5.580\n",
      "Roll 10\t has an expectation of 5.650\n"
     ]
    }
   ],
   "source": [
    "# Python Source\n",
    "import numpy as np\n",
    "\n",
    "def expect_rolls(n):\n",
    "    \"\"\"Calculates expected payoff using an optimal strategy.\"\"\"\n",
    "    if n==1: return 3.5\n",
    "    else:\n",
    "        reroll_thresh = expect_rolls(n-1)\n",
    "        faces         = np.array([1,2,3,4,5,6])\n",
    "        roll_again    = (faces<reroll_thresh).sum() * reroll_thresh / 6\n",
    "        keep          = faces[faces>reroll_thresh].sum() / 6\n",
    "        return roll_again + keep\n",
    "\n",
    "# Valdiate Results\n",
    "for i in range(4,10+1):\n",
    "    print(f\"Roll {i}\\t has an expectation of {expect_rolls(i):.3f}\")"
   ]
  },
  {
   "cell_type": "code",
   "execution_count": 2,
   "id": "c04b1861-e105-4e24-a975-6913b00795f7",
   "metadata": {},
   "outputs": [
    {
     "data": {
      "text/plain": [
       "4.666666666666667"
      ]
     },
     "execution_count": 2,
     "metadata": {},
     "output_type": "execute_result"
    }
   ],
   "source": [
    "expect_rolls(3)"
   ]
  },
  {
   "cell_type": "code",
   "execution_count": null,
   "id": "c847a071-1e17-4849-8c9a-730c2b8a8402",
   "metadata": {},
   "outputs": [],
   "source": []
  }
 ],
 "metadata": {
  "kernelspec": {
   "display_name": "Python 3 (ipykernel)",
   "language": "python",
   "name": "python3"
  },
  "language_info": {
   "codemirror_mode": {
    "name": "ipython",
    "version": 3
   },
   "file_extension": ".py",
   "mimetype": "text/x-python",
   "name": "python",
   "nbconvert_exporter": "python",
   "pygments_lexer": "ipython3",
   "version": "3.9.1"
  }
 },
 "nbformat": 4,
 "nbformat_minor": 5
}
