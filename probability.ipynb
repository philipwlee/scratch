{
 "cells": [
  {
   "cell_type": "code",
   "execution_count": 8,
   "id": "b3a60123-0aa4-4bcf-840b-43baa23f0b9a",
   "metadata": {},
   "outputs": [
    {
     "data": {
      "text/plain": [
       "0.11024363979001212"
      ]
     },
     "execution_count": 8,
     "metadata": {},
     "output_type": "execute_result"
    }
   ],
   "source": [
    "# 63.17 15 W, 10 M, 9th W at pos 17\n",
    "from math import factorial, comb\n",
    "\n",
    "top = comb(16, 8) * comb(8, 6)\n",
    "bot = comb(25, 15)\n",
    "top / bot"
   ]
  },
  {
   "cell_type": "code",
   "execution_count": null,
   "id": "15daca1f-1c54-4385-806d-f5b9e736c23c",
   "metadata": {},
   "outputs": [],
   "source": []
  }
 ],
 "metadata": {
  "kernelspec": {
   "display_name": "Python 3",
   "language": "python",
   "name": "python3"
  },
  "language_info": {
   "codemirror_mode": {
    "name": "ipython",
    "version": 3
   },
   "file_extension": ".py",
   "mimetype": "text/x-python",
   "name": "python",
   "nbconvert_exporter": "python",
   "pygments_lexer": "ipython3",
   "version": "3.9.1"
  }
 },
 "nbformat": 4,
 "nbformat_minor": 5
}
