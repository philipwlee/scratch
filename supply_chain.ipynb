{
 "cells": [
  {
   "cell_type": "code",
   "execution_count": 1,
   "id": "585f0c38-b593-40cc-b754-0856efd4984b",
   "metadata": {},
   "outputs": [],
   "source": [
    "import os\n",
    "import pandas as pd\n",
    "\n",
    "directory = \"supply_chain\"\n",
    "\n",
    "for file in [csv for csv in os.listdir(directory) if \".csv\" in csv]:\n",
    "    pd.read_csv(os.path.join(directory, file)).to_pickle(os.path.join(directory, file.split('.')[0]+\".pkl\"))"
   ]
  },
  {
   "cell_type": "code",
   "execution_count": null,
   "id": "5f7b4580-0b47-4318-bc00-1b070f04b1fd",
   "metadata": {},
   "outputs": [],
   "source": []
  }
 ],
 "metadata": {
  "kernelspec": {
   "display_name": "Python 3 (ipykernel)",
   "language": "python",
   "name": "python3"
  },
  "language_info": {
   "codemirror_mode": {
    "name": "ipython",
    "version": 3
   },
   "file_extension": ".py",
   "mimetype": "text/x-python",
   "name": "python",
   "nbconvert_exporter": "python",
   "pygments_lexer": "ipython3",
   "version": "3.9.1"
  }
 },
 "nbformat": 4,
 "nbformat_minor": 5
}
